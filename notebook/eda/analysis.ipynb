{
 "cells": [
  {
   "cell_type": "code",
   "execution_count": null,
   "id": "a8517d7f",
   "metadata": {},
   "outputs": [],
   "source": [
    "from pathlib import Path\n",
    "import sys\n",
    "\n",
    "# ノートブックのカレントディレクトリを確認して、project root を推定する\n",
    "print(\"cwd:\", Path.cwd())\n",
    "proj_root = Path.cwd().parents[1]  # notebook/eda -> ../.. がリポジトリルート\n",
    "print(\"project root guessed:\", proj_root)\n",
    "\n",
    "# 先頭に挿入して import の優先検索先にする\n",
    "sys.path.insert(0, str(proj_root))\n",
    "\n",
    "# 動作確認\n",
    "import importlib\n",
    "\n",
    "try:\n",
    "    import src.paths as _p\n",
    "\n",
    "    importlib.reload(_p)\n",
    "    print(\"src is importable:\", _p)\n",
    "except Exception as e:\n",
    "    print(\"import failed:\", e)"
   ]
  },
  {
   "cell_type": "code",
   "execution_count": null,
   "id": "764b6fa4",
   "metadata": {},
   "outputs": [],
   "source": [
    "import json\n",
    "import matplotlib.pyplot as plt\n",
    "import pandas as pd\n",
    "import random\n",
    "import re\n",
    "from num2words import num2words\n",
    "from pprint import pprint\n",
    "\n",
    "from src.paths import VIST_JSON_ROOT, VIST_IMAGE_ROOT, ORIGINAL_ROOT\n",
    "from src.dataset import get_seq2opt_dataset\n",
    "from src.utils import load_image"
   ]
  },
  {
   "cell_type": "code",
   "execution_count": null,
   "id": "d2d304cd",
   "metadata": {},
   "outputs": [],
   "source": [
    "dataset_path = ORIGINAL_ROOT / \"seq2opt.jsonl\"\n",
    "dataset = get_seq2opt_dataset(dataset_path)\n"
   ]
  },
  {
   "cell_type": "code",
   "execution_count": null,
   "id": "3e0e508c",
   "metadata": {},
   "outputs": [],
   "source": [
    "data = dataset[0]\n",
    "pprint(data)"
   ]
  },
  {
   "cell_type": "code",
   "execution_count": null,
   "id": "7e24c351",
   "metadata": {},
   "outputs": [],
   "source": [
    "image_ids = list(data[\"question\"].keys())\n",
    "images = [load_image(image_id) for image_id in image_ids]"
   ]
  },
  {
   "cell_type": "code",
   "execution_count": null,
   "id": "795b27d9",
   "metadata": {},
   "outputs": [],
   "source": [
    "plt.figure(figsize=(15, 5))\n",
    "for i, img in enumerate(images):\n",
    "    plt.subplot(1, len(images), i + 1)\n",
    "    plt.imshow(img)\n",
    "    plt.axis(\"off\")\n",
    "plt.show()"
   ]
  },
  {
   "cell_type": "code",
   "execution_count": null,
   "id": "8fff651f",
   "metadata": {},
   "outputs": [],
   "source": [
    "text_options = list(data[\"option\"].values())\n",
    "for i, text in enumerate(text_options):\n",
    "    print(f\"{i}. {text}\")"
   ]
  },
  {
   "cell_type": "code",
   "execution_count": null,
   "id": "a4574891",
   "metadata": {},
   "outputs": [],
   "source": [
    "print(data[\"answer_idx\"])"
   ]
  }
 ],
 "metadata": {
  "language_info": {
   "name": "python"
  }
 },
 "nbformat": 4,
 "nbformat_minor": 5
}
