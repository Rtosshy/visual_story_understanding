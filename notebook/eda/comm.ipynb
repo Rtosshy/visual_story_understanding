{
 "cells": [
  {
   "cell_type": "code",
   "execution_count": null,
   "id": "282535ee",
   "metadata": {},
   "outputs": [],
   "source": [
    "from datasets import load_dataset"
   ]
  },
  {
   "cell_type": "code",
   "execution_count": null,
   "id": "415c1c3c",
   "metadata": {},
   "outputs": [],
   "source": [
    "dataset = load_dataset(\"\")"
   ]
  }
 ],
 "metadata": {
  "language_info": {
   "name": "python"
  }
 },
 "nbformat": 4,
 "nbformat_minor": 5
}
